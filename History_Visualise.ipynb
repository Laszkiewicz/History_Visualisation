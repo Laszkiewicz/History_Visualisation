{
 "cells": [
  {
   "cell_type": "code",
   "execution_count": 1,
   "id": "9f223d29-0135-4a2c-8812-d91ec655c863",
   "metadata": {},
   "outputs": [],
   "source": [
    "%matplotlib inline\n",
    "import datetime\n",
    "import json\n",
    "import tldextract\n",
    "import numpy as np\n",
    "import pandas as pd\n",
    "pd.options.mode.chained_assignment = None  # default='warn'\n",
    "import seaborn as sns\n",
    "from matplotlib import pyplot as plt\n",
    "from PIL import Image\n",
    "from wordcloud import WordCloud, STOPWORDS"
   ]
  },
  {
   "cell_type": "code",
   "execution_count": 2,
   "id": "b94da684-9f38-47a8-b643-c4b060eed7df",
   "metadata": {},
   "outputs": [],
   "source": [
    "with open(\"BrowserHistory.json\", \"rb\") as f:\n",
    "    data = json.loads(f.read())\n",
    "    hst = pd.DataFrame(data[\"Browser History\"])"
   ]
  },
  {
   "cell_type": "code",
   "execution_count": 3,
   "id": "d4a4b77a-3fd0-46c0-aacf-b849c20fae39",
   "metadata": {},
   "outputs": [
    {
     "data": {
      "text/html": [
       "<div>\n",
       "<style scoped>\n",
       "    .dataframe tbody tr th:only-of-type {\n",
       "        vertical-align: middle;\n",
       "    }\n",
       "\n",
       "    .dataframe tbody tr th {\n",
       "        vertical-align: top;\n",
       "    }\n",
       "\n",
       "    .dataframe thead th {\n",
       "        text-align: right;\n",
       "    }\n",
       "</style>\n",
       "<table border=\"1\" class=\"dataframe\">\n",
       "  <thead>\n",
       "    <tr style=\"text-align: right;\">\n",
       "      <th></th>\n",
       "      <th>page_transition</th>\n",
       "      <th>title</th>\n",
       "      <th>url</th>\n",
       "      <th>time_usec</th>\n",
       "    </tr>\n",
       "  </thead>\n",
       "  <tbody>\n",
       "    <tr>\n",
       "      <th>116137</th>\n",
       "      <td>LINK</td>\n",
       "      <td>Templariusze (Serial TV 2017-2019) - Filmweb</td>\n",
       "      <td>https://www.filmweb.pl/serial/Templariusze-201...</td>\n",
       "      <td>1638190297057678</td>\n",
       "    </tr>\n",
       "  </tbody>\n",
       "</table>\n",
       "</div>"
      ],
      "text/plain": [
       "       page_transition                                         title  \\\n",
       "116137            LINK  Templariusze (Serial TV 2017-2019) - Filmweb   \n",
       "\n",
       "                                                      url         time_usec  \n",
       "116137  https://www.filmweb.pl/serial/Templariusze-201...  1638190297057678  "
      ]
     },
     "execution_count": 3,
     "metadata": {},
     "output_type": "execute_result"
    }
   ],
   "source": [
    "hst.drop('client_id', axis=1, inplace=True)\n",
    "hst.drop('favicon_url', axis=1, inplace=True)\n",
    "hst.sample(1)"
   ]
  },
  {
   "cell_type": "code",
   "execution_count": 4,
   "id": "c09cf3e3-cbb6-4203-a326-72da3a4222bc",
   "metadata": {},
   "outputs": [],
   "source": [
    "def convert_time(x):\n",
    "    return datetime.datetime.fromtimestamp(x/1000000)\n",
    "hst['dt'] = hst['time_usec'].apply(convert_time)"
   ]
  },
  {
   "cell_type": "code",
   "execution_count": 5,
   "id": "b2469ad2-13bd-4db4-a5da-07655e0f47ef",
   "metadata": {},
   "outputs": [],
   "source": [
    "def get_date(x):\n",
    "    return str(x.date())\n",
    "hst['date'] = hst['dt'].apply(get_date)"
   ]
  },
  {
   "cell_type": "code",
   "execution_count": 6,
   "id": "56ad8d2a-c0bf-472c-a2ad-8f5049f84515",
   "metadata": {},
   "outputs": [],
   "source": [
    "def get_hour(x):\n",
    "    return int(x.hour)\n",
    "hst['hour'] = hst['dt'].apply(get_hour)"
   ]
  },
  {
   "cell_type": "code",
   "execution_count": 7,
   "id": "0d445566-8447-43dd-9bc3-490f28b11db2",
   "metadata": {},
   "outputs": [],
   "source": [
    "def get_month(x):\n",
    "    return int(x.month)\n",
    "hst['month'] = hst['dt'].apply(get_month)\n"
   ]
  },
  {
   "cell_type": "code",
   "execution_count": 8,
   "id": "19bc2af8-79fc-4016-bd52-19de5bb79f86",
   "metadata": {},
   "outputs": [],
   "source": [
    "def get_year(x):\n",
    "    return int(x.year)\n",
    "hst['year'] = hst['dt'].apply(get_year)"
   ]
  },
  {
   "cell_type": "code",
   "execution_count": 9,
   "id": "262a0f82-4a29-4429-8e87-8407f37aab55",
   "metadata": {},
   "outputs": [],
   "source": [
    "def get_is_secure(x):\n",
    "    if x.startswith(\"https\"):\n",
    "        return \"Y\"\n",
    "    return \"N\"\n",
    "hst['is_secure'] = hst['url'].apply(get_is_secure)"
   ]
  },
  {
   "cell_type": "code",
   "execution_count": 10,
   "id": "2c47f0f7-b642-4fb4-8faa-16127f9b2e36",
   "metadata": {},
   "outputs": [],
   "source": [
    "def get_weekend(x):\n",
    "    if x.weekday() >= 5:\n",
    "        return \"Y\"\n",
    "    return \"N\"\n",
    "hst['is_weekend'] = hst['dt'].apply(get_weekend)"
   ]
  },
  {
   "cell_type": "code",
   "execution_count": 11,
   "id": "89ab3fc2-5651-4535-9801-0f0c2c5628ed",
   "metadata": {},
   "outputs": [],
   "source": [
    "days_array = ['Mon', 'Tue', 'Wedn', 'Thur', 'Friday', 'Sat', 'Sun']\n",
    "def get_day(x):\n",
    "    return days_array[x.weekday()]\n",
    "hst['day_of_week'] = hst['dt'].apply(get_day)\n"
   ]
  },
  {
   "cell_type": "code",
   "execution_count": 12,
   "id": "8fceb740-1ad0-42e9-9248-959fe83b6d5f",
   "metadata": {},
   "outputs": [],
   "source": [
    "def get_domain(x):\n",
    "    domain = tldextract.extract(x)[1]\n",
    "    sub_domain = tldextract.extract(x)[0]\n",
    "    if sub_domain == \"mail\":\n",
    "        return sub_domain + \".\" + domain\n",
    "    if domain == \"google\" and sub_domain == \"www\":\n",
    "        return \"google_search\"\n",
    "    return domain\n",
    "hst['domain'] = hst['url'].apply(get_domain)\n"
   ]
  },
  {
   "cell_type": "code",
   "execution_count": 13,
   "id": "925b9132-b5c5-4389-b303-cb31407d97d7",
   "metadata": {},
   "outputs": [],
   "source": [
    "def get_category(x):\n",
    "    if x in ['udemy', 'stackoverflow', 'kaggle']:\n",
    "        return 'Learning'\n",
    "    elif x in ['facebook', 'messenger', 'instagram', 'reddit', 'discord', 'twitch', 'twitter']:\n",
    "        return 'Socials'\n",
    "    elif x in ['allegro', 'amazon', 'shopee', 'pepper', 'olx']:\n",
    "        return 'Shopping'\n",
    "    elif x in ['mail.google']:\n",
    "        return 'mail'\n",
    "    elif x in ['youtube', 'spotify']:\n",
    "        return 'Music'\n",
    "    else:\n",
    "        return 'other'\n",
    "hst['category'] = hst['domain'].apply(get_category)\n"
   ]
  },
  {
   "cell_type": "code",
   "execution_count": 14,
   "id": "acdbd565-9f01-4ac6-a89f-9e33cb0b609c",
   "metadata": {},
   "outputs": [
    {
     "data": {
      "text/html": [
       "<div>\n",
       "<style scoped>\n",
       "    .dataframe tbody tr th:only-of-type {\n",
       "        vertical-align: middle;\n",
       "    }\n",
       "\n",
       "    .dataframe tbody tr th {\n",
       "        vertical-align: top;\n",
       "    }\n",
       "\n",
       "    .dataframe thead th {\n",
       "        text-align: right;\n",
       "    }\n",
       "</style>\n",
       "<table border=\"1\" class=\"dataframe\">\n",
       "  <thead>\n",
       "    <tr style=\"text-align: right;\">\n",
       "      <th></th>\n",
       "      <th>page_transition</th>\n",
       "      <th>title</th>\n",
       "      <th>url</th>\n",
       "      <th>time_usec</th>\n",
       "      <th>dt</th>\n",
       "      <th>date</th>\n",
       "      <th>hour</th>\n",
       "      <th>month</th>\n",
       "      <th>year</th>\n",
       "      <th>is_secure</th>\n",
       "      <th>is_weekend</th>\n",
       "      <th>day_of_week</th>\n",
       "      <th>domain</th>\n",
       "      <th>category</th>\n",
       "    </tr>\n",
       "  </thead>\n",
       "  <tbody>\n",
       "    <tr>\n",
       "      <th>95003</th>\n",
       "      <td>LINK</td>\n",
       "      <td>THE ULTIMATE BEST CS:GO PRO PLAYS OF 2021! (12...</td>\n",
       "      <td>https://m.youtube.com/watch?v=9RMVz-vMVYI</td>\n",
       "      <td>1642296107779332</td>\n",
       "      <td>2022-01-16 02:21:47.779332</td>\n",
       "      <td>2022-01-16</td>\n",
       "      <td>2</td>\n",
       "      <td>1</td>\n",
       "      <td>2022</td>\n",
       "      <td>Y</td>\n",
       "      <td>Y</td>\n",
       "      <td>Sun</td>\n",
       "      <td>youtube</td>\n",
       "      <td>Music</td>\n",
       "    </tr>\n",
       "  </tbody>\n",
       "</table>\n",
       "</div>"
      ],
      "text/plain": [
       "      page_transition                                              title  \\\n",
       "95003            LINK  THE ULTIMATE BEST CS:GO PRO PLAYS OF 2021! (12...   \n",
       "\n",
       "                                             url         time_usec  \\\n",
       "95003  https://m.youtube.com/watch?v=9RMVz-vMVYI  1642296107779332   \n",
       "\n",
       "                              dt        date  hour  month  year is_secure  \\\n",
       "95003 2022-01-16 02:21:47.779332  2022-01-16     2      1  2022         Y   \n",
       "\n",
       "      is_weekend day_of_week   domain category  \n",
       "95003          Y         Sun  youtube    Music  "
      ]
     },
     "execution_count": 14,
     "metadata": {},
     "output_type": "execute_result"
    }
   ],
   "source": [
    "hst = hst[(hst['page_transition'] == \"LINK\") | (hst['page_transition'] == \"TYPED\")]\n",
    "hst = hst[hst['domain'] != 'newtab']\n",
    "hst.sample(1)\n",
    "           "
   ]
  },
  {
   "cell_type": "markdown",
   "id": "37cc3995-5a85-42d4-86de-dc46d06adce3",
   "metadata": {
    "tags": []
   },
   "source": [
    "<h1>Website visits ratio weekend vs weekday</h1>"
   ]
  },
  {
   "cell_type": "code",
   "execution_count": 15,
   "id": "e10ab007-1b55-488c-8e85-85c0672a48d2",
   "metadata": {},
   "outputs": [
    {
     "data": {
      "image/png": "[encoded data removed]",
      "text/plain": [
       "<Figure size 432x288 with 1 Axes>"
      ]
     },
     "metadata": {},
     "output_type": "display_data"
    }
   ],
   "source": [
    "sns.set_theme(style=\"darkgrid\")\n",
    "ax = sns.countplot(x=\"month\", hue = \"is_weekend\", data=hst)\n",
    "\n"
   ]
  },
  {
   "cell_type": "markdown",
   "id": "17517a24-5dab-4232-8f5a-5e51fa9b792e",
   "metadata": {},
   "source": [
    "<h1>Heatmap of visits per day</h1>"
   ]
  },
  {
   "cell_type": "code",
   "execution_count": 16,
   "id": "8893bf0d-b6a5-4907-868a-1e55548a0b80",
   "metadata": {},
   "outputs": [],
   "source": [
    "hst_heat = hst.groupby([\"hour\", \"day_of_week\"])[\"domain\"].size().reset_index()\n",
    "hst_heat2 = hst_heat.pivot(\"hour\", \"day_of_week\", \"domain\")"
   ]
  },
  {
   "cell_type": "code",
   "execution_count": 17,
   "id": "12ad5469-749c-49b7-b0ef-d6e482e4b4f8",
   "metadata": {},
   "outputs": [
    {
     "data": {
      "text/plain": [
       "<AxesSubplot:xlabel='day_of_week', ylabel='hour'>"
      ]
     },
     "execution_count": 17,
     "metadata": {},
     "output_type": "execute_result"
    },
    {
     "data": {
      "image/png": "[encoded data removed]",
      "text/plain": [
       "<Figure size 432x288 with 2 Axes>"
      ]
     },
     "metadata": {},
     "output_type": "display_data"
    }
   ],
   "source": [
    "sns.heatmap(hst_heat2[days_array] , cmap=\"Greens\")"
   ]
  },
  {
   "cell_type": "markdown",
   "id": "90199974-0758-4728-9443-ab71fab91c62",
   "metadata": {},
   "source": [
    "<h1> Visits per hour in category Socials, defined by hour</h1>"
   ]
  },
  {
   "cell_type": "code",
   "execution_count": 18,
   "id": "94f62bf1-e082-4647-a49a-9fa2da050bda",
   "metadata": {},
   "outputs": [
    {
     "data": {
      "text/plain": [
       "<AxesSubplot:xlabel='hour', ylabel='count'>"
      ]
     },
     "execution_count": 18,
     "metadata": {},
     "output_type": "execute_result"
    },
    {
     "data": {
      "image/png": "[encoded data removed]",
      "text/plain": [
       "<Figure size 432x288 with 1 Axes>"
      ]
     },
     "metadata": {},
     "output_type": "display_data"
    }
   ],
   "source": [
    "sns.countplot(x='hour', data=hst[(hst['category'] == \"Socials\") & (hst['month'] == 12)])"
   ]
  },
  {
   "cell_type": "markdown",
   "id": "71032d9a-b18d-41d5-8085-85cc397aceaf",
   "metadata": {},
   "source": [
    "<h1> Browser usage over month in 2022</h1>"
   ]
  },
  {
   "cell_type": "code",
   "execution_count": 19,
   "id": "f5503cc4-3f24-413d-912a-36c1970236cf",
   "metadata": {},
   "outputs": [],
   "source": [
    "hst_month = hst[(hst['month'] == 7) & (hst['year'] == 2022)].groupby(['hour', 'date'])['domain'].nunique()\n",
    "hst_month = hst_month.reset_index(name='count')"
   ]
  },
  {
   "cell_type": "code",
   "execution_count": 20,
   "id": "48d2d908-846a-4672-ab45-2fc2c32cf715",
   "metadata": {},
   "outputs": [
    {
     "data": {
      "text/plain": [
       "<AxesSubplot:xlabel='date', ylabel='hour'>"
      ]
     },
     "execution_count": 20,
     "metadata": {},
     "output_type": "execute_result"
    },
    {
     "data": {
      "image/png": "[encoded data removed]",
      "text/plain": [
       "<Figure size 1152x360 with 2 Axes>"
      ]
     },
     "metadata": {},
     "output_type": "display_data"
    }
   ],
   "source": [
    "plt.figure(figsize = (16,5))\n",
    "sns.heatmap(hst_month.pivot('hour', 'date', 'count'), annot = False, cmap = \"Blues\")"
   ]
  },
  {
   "cell_type": "markdown",
   "id": "bead57b4-95c4-49ad-a5f9-fe0b004d0c1a",
   "metadata": {},
   "source": [
    "<h1>Category usage over months </h1>"
   ]
  },
  {
   "cell_type": "code",
   "execution_count": 21,
   "id": "610c6f90-35ad-4732-a7bc-0e673fdea2e7",
   "metadata": {},
   "outputs": [
    {
     "data": {
      "text/plain": [
       "<AxesSubplot:xlabel='month', ylabel='count'>"
      ]
     },
     "execution_count": 21,
     "metadata": {},
     "output_type": "execute_result"
    },
    {
     "data": {
      "image/png": "[encoded data removed]",
      "text/plain": [
       "<Figure size 1008x360 with 1 Axes>"
      ]
     },
     "metadata": {},
     "output_type": "display_data"
    }
   ],
   "source": [
    "plt.figure(figsize = (14,5))\n",
    "sns.countplot(x='month', hue='category', data=hst)"
   ]
  },
  {
   "cell_type": "markdown",
   "id": "e83e382e-d84e-4db6-9580-79573dd0cea0",
   "metadata": {},
   "source": [
    "<h1>Most revisited Questions in Stackoverflow</h1> "
   ]
  },
  {
   "cell_type": "code",
   "execution_count": 22,
   "id": "d11a7dc3-4160-45b8-922c-ae3698698808",
   "metadata": {},
   "outputs": [
    {
     "data": {
      "text/html": [
       "<div>\n",
       "<style scoped>\n",
       "    .dataframe tbody tr th:only-of-type {\n",
       "        vertical-align: middle;\n",
       "    }\n",
       "\n",
       "    .dataframe tbody tr th {\n",
       "        vertical-align: top;\n",
       "    }\n",
       "\n",
       "    .dataframe thead th {\n",
       "        text-align: right;\n",
       "    }\n",
       "</style>\n",
       "<table border=\"1\" class=\"dataframe\">\n",
       "  <thead>\n",
       "    <tr style=\"text-align: right;\">\n",
       "      <th></th>\n",
       "      <th>title</th>\n",
       "      <th>count</th>\n",
       "    </tr>\n",
       "  </thead>\n",
       "  <tbody>\n",
       "    <tr>\n",
       "      <th>63</th>\n",
       "      <td>python - How to group FastAPI endpoints in Swagger UI? - Stack Overflow</td>\n",
       "      <td>2</td>\n",
       "    </tr>\n",
       "    <tr>\n",
       "      <th>36</th>\n",
       "      <td>python - 'pip' is not recognized - Stack Overflow</td>\n",
       "      <td>2</td>\n",
       "    </tr>\n",
       "    <tr>\n",
       "      <th>6</th>\n",
       "      <td>excel - \"Clicking\" Command Button from other workbook - Stack Overflow</td>\n",
       "      <td>2</td>\n",
       "    </tr>\n",
       "    <tr>\n",
       "      <th>55</th>\n",
       "      <td>python - Generate a random date between two other dates - Stack Overflow</td>\n",
       "      <td>2</td>\n",
       "    </tr>\n",
       "    <tr>\n",
       "      <th>47</th>\n",
       "      <td>python - How to create and fill a list of lists in a for loop - Stack Overflow</td>\n",
       "      <td>2</td>\n",
       "    </tr>\n",
       "    <tr>\n",
       "      <th>0</th>\n",
       "      <td>Stack Overflow - Where Developers Learn, Share, &amp; Build Careers</td>\n",
       "      <td>1</td>\n",
       "    </tr>\n",
       "    <tr>\n",
       "      <th>53</th>\n",
       "      <td>Preventing nested grouping when adding rows to pivot table in Excel - Stack Overflow</td>\n",
       "      <td>1</td>\n",
       "    </tr>\n",
       "    <tr>\n",
       "      <th>52</th>\n",
       "      <td>Python - How to recall the correct function - Stack Overflow</td>\n",
       "      <td>1</td>\n",
       "    </tr>\n",
       "    <tr>\n",
       "      <th>51</th>\n",
       "      <td>python - Why do I get &lt;built-in method title of str object at 0x7fb554f9f238&gt; instead of the value ? - Stack Overflow</td>\n",
       "      <td>1</td>\n",
       "    </tr>\n",
       "    <tr>\n",
       "      <th>50</th>\n",
       "      <td>python - Difference between using ' and \"? - Stack Overflow</td>\n",
       "      <td>1</td>\n",
       "    </tr>\n",
       "  </tbody>\n",
       "</table>\n",
       "</div>"
      ],
      "text/plain": [
       "                                                                                                                    title  \\\n",
       "63                                                python - How to group FastAPI endpoints in Swagger UI? - Stack Overflow   \n",
       "36                                                                      python - 'pip' is not recognized - Stack Overflow   \n",
       "6                                                  excel - \"Clicking\" Command Button from other workbook - Stack Overflow   \n",
       "55                                               python - Generate a random date between two other dates - Stack Overflow   \n",
       "47                                         python - How to create and fill a list of lists in a for loop - Stack Overflow   \n",
       "0                                                         Stack Overflow - Where Developers Learn, Share, & Build Careers   \n",
       "53                                   Preventing nested grouping when adding rows to pivot table in Excel - Stack Overflow   \n",
       "52                                                           Python - How to recall the correct function - Stack Overflow   \n",
       "51  python - Why do I get <built-in method title of str object at 0x7fb554f9f238> instead of the value ? - Stack Overflow   \n",
       "50                                                            python - Difference between using ' and \"? - Stack Overflow   \n",
       "\n",
       "    count  \n",
       "63      2  \n",
       "36      2  \n",
       "6       2  \n",
       "55      2  \n",
       "47      2  \n",
       "0       1  \n",
       "53      1  \n",
       "52      1  \n",
       "51      1  \n",
       "50      1  "
      ]
     },
     "execution_count": 22,
     "metadata": {},
     "output_type": "execute_result"
    }
   ],
   "source": [
    "pd.set_option('display.max_colwidth', None)\n",
    "hst_yt = hst[hst['domain'] == \"stackoverflow\"].groupby(['url', 'title']).size()\n",
    "hst_yt = hst_yt.reset_index(name='count').sort_values('count', ascending=False)[['title', 'count']]\n",
    "\n",
    "hst_yt.head(10)"
   ]
  },
  {
   "cell_type": "markdown",
   "id": "3b3c422a-fe71-41e6-a85f-9a1254a94ffc",
   "metadata": {},
   "source": [
    "<h1> Yearly Visualisation about all categories</h1>"
   ]
  },
  {
   "cell_type": "code",
   "execution_count": 36,
   "id": "0826d54d-2760-4c82-85f0-6cf3a37ded88",
   "metadata": {},
   "outputs": [
    {
     "data": {
      "text/plain": [
       "<seaborn.axisgrid.FacetGrid at 0x1eba0b6bfa0>"
      ]
     },
     "execution_count": 36,
     "metadata": {},
     "output_type": "execute_result"
    },
    {
     "data": {
      "text/plain": [
       "<Figure size 1440x720 with 0 Axes>"
      ]
     },
     "metadata": {},
     "output_type": "display_data"
    },
    {
     "data": {
      "image/png": "[encoded data removed]",
      "text/plain": [
       "<Figure size 446.225x360 with 1 Axes>"
      ]
     },
     "metadata": {},
     "output_type": "display_data"
    }
   ],
   "source": [
    "plt.figure(figsize = (20,10))\n",
    "sns.catplot(y='year', kind='count', palette='ch:.25', data=hst, hue = 'category')"
   ]
  },
  {
   "cell_type": "markdown",
   "id": "f522d1c6-48cd-4b76-9d3c-4594e73ce3c2",
   "metadata": {
    "tags": []
   },
   "source": [
    "<h1> Category usage over month</h1>"
   ]
  },
  {
   "cell_type": "code",
   "execution_count": 24,
   "id": "909a6105-f724-40ca-b496-b27c1dad309b",
   "metadata": {},
   "outputs": [],
   "source": [
    " aug = hst.loc[(hst['month'] == 7) & (hst['year'] == 2022)]\n"
   ]
  },
  {
   "cell_type": "code",
   "execution_count": 30,
   "id": "38531e6f-14d5-4d54-ae90-f78ac12ab323",
   "metadata": {},
   "outputs": [
    {
     "data": {
      "text/plain": [
       "<AxesSubplot:xlabel='month', ylabel='count'>"
      ]
     },
     "execution_count": 30,
     "metadata": {},
     "output_type": "execute_result"
    },
    {
     "data": {
      "image/png": "[encoded data removed]",
      "text/plain": [
       "<Figure size 1008x360 with 1 Axes>"
      ]
     },
     "metadata": {},
     "output_type": "display_data"
    }
   ],
   "source": [
    "plt.figure(figsize = (14,5))\n",
    "sns.countplot(x='month', hue='category', data=aug)"
   ]
  },
  {
   "cell_type": "code",
   "execution_count": null,
   "id": "5412981e-459f-4c65-bb55-46e8738e9aa1",
   "metadata": {},
   "outputs": [],
   "source": []
  }
 ],
 "metadata": {
  "kernelspec": {
   "display_name": "Python 3 (ipykernel)",
   "language": "python",
   "name": "python3"
  },
  "language_info": {
   "codemirror_mode": {
    "name": "ipython",
    "version": 3
   },
   "file_extension": ".py",
   "mimetype": "text/x-python",
   "name": "python",
   "nbconvert_exporter": "python",
   "pygments_lexer": "ipython3",
   "version": "3.10.6"
  }
 },
 "nbformat": 4,
 "nbformat_minor": 5
}
